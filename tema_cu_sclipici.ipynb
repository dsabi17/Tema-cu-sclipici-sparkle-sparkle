{
 "cells": [
  {
   "attachments": {},
   "cell_type": "markdown",
   "metadata": {},
   "source": [
    "Imports"
   ]
  },
  {
   "cell_type": "code",
   "execution_count": null,
   "metadata": {},
   "outputs": [],
   "source": [
    "!pip install sktime\n",
    "!pip install pandas\n",
    "!pip install seaborn\n",
    "!pip install sklearn\n"
   ]
  },
  {
   "cell_type": "code",
   "execution_count": null,
   "metadata": {},
   "outputs": [],
   "source": [
    "from sktime.datasets import load_from_arff_to_dataframe\n",
    "import seaborn as sns\n",
    "import pandas as pd\n",
    "import matplotlib.pyplot as plt\n",
    "import numpy as np\n",
    "from sklearn.model_selection import train_test_split\n",
    "import zipfile\n",
    "import shutil\n",
    "import os\n",
    "import random\n"
   ]
  },
  {
   "cell_type": "markdown",
   "metadata": {},
   "source": [
    "creating datasets and spliting"
   ]
  },
  {
   "cell_type": "code",
   "execution_count": null,
   "metadata": {},
   "outputs": [],
   "source": [
    "with zipfile.ZipFile(\"datasets.zip\",\"r\") as zip_ref:\n",
    "    zip_ref.extractall()\n"
   ]
  },
  {
   "cell_type": "code",
   "execution_count": null,
   "metadata": {},
   "outputs": [],
   "source": [
    "X_train_sports, y_train_sports = load_from_arff_to_dataframe('RacketSports\\RacketSports_TRAIN.arff')\n",
    "X_test_sports, y_test_sports = load_from_arff_to_dataframe('RacketSports\\RacketSports_TEST.arff')\n",
    "\n",
    "data_mitbih_train = pd.read_csv('ECG\\mitbih_train.csv', header=None)\n",
    "data_mitbih_test = pd.read_csv('ECG\\mitbih_test.csv', header=None)\n",
    "\n",
    "X_train_mitbih = data_mitbih_train.iloc[:, 0:-1]\n",
    "y_train_mitbih = data_mitbih_train.iloc[:, -1]\n",
    "\n",
    "X_test_mitbih = data_mitbih_test.iloc[:, 0:-1]\n",
    "y_test_mitbih = data_mitbih_test.iloc[:, -1]\n",
    "\n",
    "data_ptbdb_abnormal = pd.read_csv('ECG\\ptbdb_abnormal.csv', header=None)\n",
    "data_ptbdb_normal = pd.read_csv('ECG\\ptbdb_normal.csv', header=None)\n",
    "\n",
    "data_ptbdb = pd.concat([data_ptbdb_abnormal, data_ptbdb_normal])\n",
    "\n",
    "X_ptbdb = data_ptbdb.iloc[:, 0:-1]\n",
    "y_ptbdb = data_ptbdb.iloc[:, -1]\n",
    "\n",
    "X_train_ptbdb, X_test_ptbdb, y_train_ptbdb, y_test_ptbdb = train_test_split(X_ptbdb, y_ptbdb, test_size=0.2, random_state=80085)\n"
   ]
  },
  {
   "cell_type": "code",
   "execution_count": null,
   "metadata": {},
   "outputs": [],
   "source": [
    "labels_sports = ['Badminton_Smash',\n",
    "                'Badminton_Clear',\n",
    "                'Squash_ForehandBoast',\n",
    "                'Squash_BackhandBoast']\n",
    "\n",
    "labels_mitbih = list(range(5))\n",
    "\n",
    "labels_ptbdb = [0, 1]\n",
    "\n",
    "datasets = [y_train_sports, y_test_sports, y_train_mitbih, y_test_mitbih, y_train_ptbdb, y_test_ptbdb]\n",
    "\n",
    "plot_labels = [labels_sports, labels_mitbih, labels_ptbdb]\n",
    "plot_titles = ['RacketSports', 'ECG Heartbeat Categorization Dataset - MIT-BIH', 'ECG Heartbeat Categorization Dataset - PTB Diagnostic']\n",
    "plot_subtitles = ['Train Set', 'Test Set']\n",
    "\n",
    "sns.set(rc={'figure.autolayout': True})\n",
    "\n",
    "bg_color = '#E5E6F0'\n",
    "color_line = '#0F101A'\n",
    "colors = ['#5465FF', '#788BFF', '#9BB1FF', '#BFD7FF', '#D1EAFF', '#E2FDFF']\n",
    "\n",
    "sns.set_theme(style=\"whitegrid\", palette=sns.color_palette(colors))\n"
   ]
  },
  {
   "attachments": {},
   "cell_type": "markdown",
   "metadata": {},
   "source": [
    "**3.1.1**\n",
    "\n",
    "Grafice ale frecvenței de apariție a fiecărei etichete (clase) în setul de date de antrenare / test"
   ]
  },
  {
   "cell_type": "code",
   "execution_count": null,
   "metadata": {},
   "outputs": [],
   "source": [
    "results_dir = '3.1/1/'\n",
    "\n",
    "if not os.path.isdir(results_dir):\n",
    "    os.makedirs(results_dir)\n",
    "\n",
    "for index in range(len(datasets)):\n",
    "    # bar plot for class imbalance and cute pie on the site\n",
    "    # print(datasets[index].shape)\n",
    "    # print(plot_titles[index // 2])\n",
    "    # print(plot_subtitles[index % 2])\n",
    "    # plt.figure(facecolor=bg_color)\n",
    "\n",
    "    fig, axes = plt.subplots(1, 2, figsize=(15, 7), facecolor=bg_color)\n",
    "    fig.suptitle(plot_subtitles[index % 2] + ' - ' + plot_titles[index // 2], fontsize=20)\n",
    "\n",
    "    sns.countplot(ax=axes[0], x=datasets[index], order=np.unique(plot_labels[index // 2]), edgecolor=color_line)\n",
    "    axes[0].set_facecolor(bg_color)\n",
    "\n",
    "    for p in axes[0].patches:\n",
    "        axes[0].bar_label(container=axes[0].containers[0])\n",
    "\n",
    "    counts = [len(datasets[index][datasets[index] == label]) for label in plot_labels[index//2]]\n",
    "    axes[1].pie(counts, labels=plot_labels[index // 2], autopct='%1.1f%%')\n",
    "\n",
    "    plt.savefig(results_dir + plot_titles[index // 2] + '_' + plot_subtitles[index % 2] + '.png')\n",
    "    plt.show()\n"
   ]
  },
  {
   "attachments": {},
   "cell_type": "markdown",
   "metadata": {},
   "source": [
    "**3.1.2**"
   ]
  },
  {
   "attachments": {},
   "cell_type": "markdown",
   "metadata": {},
   "source": [
    "1) Câte un exemplu de serie pentru fiecare tip de acțiune din RacketSports - val de acc accelerometru si de giroscop"
   ]
  },
  {
   "cell_type": "code",
   "execution_count": null,
   "metadata": {},
   "outputs": [],
   "source": [
    "random.seed(80085)\n",
    "results_dir = '3.1/2/1'\n",
    "\n",
    "if not os.path.isdir(results_dir):\n",
    "    os.makedirs(results_dir)\n",
    "\n",
    "for label in labels_sports:\n",
    "    indexes = random.sample([i for i in range(y_train_sports.shape[0]) if y_train_sports[i] == label], 6)\n",
    "\n",
    "    fig = plt.figure(figsize=plt.figaspect(0.33), facecolor=bg_color)\n",
    "    fig.suptitle('RacketSports ' + label + ' Exemplu - Accelerometru', fontsize=20)\n",
    "    for i in range(6):\n",
    "\n",
    "        x_acc = X_train_sports.to_numpy()[indexes[i]][0].to_numpy()\n",
    "        y_acc = X_train_sports.to_numpy()[indexes[i]][1].to_numpy()\n",
    "        z_acc = X_train_sports.to_numpy()[indexes[i]][2].to_numpy()\n",
    "\n",
    "        ax = fig.add_subplot(2, 3, i + 1, projection='3d', facecolor=bg_color)\n",
    "        ax.plot(x_acc, y_acc, z_acc, label='curve in (x, y)', color=colors[0], zorder=-1)\n",
    "        ax.plot(x_acc, y_acc, z_acc, label='curve in (x, y)', color=colors[4], marker='*', markeredgecolor=colors[0], markeredgewidth=1, markersize=10, linestyle=' ')\n",
    "    plt.tight_layout()\n",
    "    plt.savefig(results_dir + 'RacketSports_' + label + '_Accelerometru' + '.png')\n",
    "    plt.show()\n",
    "\n",
    "    fig = plt.figure(figsize=plt.figaspect(0.33), facecolor=bg_color)\n",
    "    fig.suptitle('RacketSports ' + label + ' Exemplu - Giroscop', fontsize=20)\n",
    "    for i in range(6):\n",
    "\n",
    "        x_giro = X_train_sports.to_numpy()[indexes[i]][3].to_numpy()\n",
    "        y_giro = X_train_sports.to_numpy()[indexes[i]][4].to_numpy()\n",
    "        z_giro = X_train_sports.to_numpy()[indexes[i]][5].to_numpy()\n",
    "\n",
    "        ax = fig.add_subplot(2, 3, i + 1, projection='3d', facecolor=bg_color)\n",
    "        ax.plot(x_giro, y_giro, z_giro, label='curve in (x, y)', color=colors[0], zorder=-1)\n",
    "        ax.plot(x_giro, y_giro, z_giro, label='curve in (x, y)', color=colors[4], marker='*', markeredgecolor=colors[0], markeredgewidth=1, markersize=10, linestyle=' ')\n",
    "    plt.tight_layout()\n",
    "    plt.savefig(results_dir + 'RacketSports_' + label + '_Giroscop' + '.png')\n",
    "    plt.show()\n"
   ]
  },
  {
   "attachments": {},
   "cell_type": "markdown",
   "metadata": {},
   "source": [
    "2) Afișați câte un exemplu de serie pentru fiecare categorie de aritmie din seturile de date MIT-BIH / PTB."
   ]
  },
  {
   "cell_type": "code",
   "execution_count": 120,
   "metadata": {},
   "outputs": [
    {
     "name": "stdout",
     "output_type": "stream",
     "text": [
      "[65636, 29812, 62829, 37166, 5548, 48541]\n",
      "[73477, 73152, 72763, 73760, 73843, 73452]\n",
      "[75617, 75810, 75664, 75491, 75886, 77910]\n",
      "[80858, 80648, 80895, 81086, 80893, 80948]\n",
      "[81812, 84712, 81450, 82294, 86314, 83859]\n"
     ]
    }
   ],
   "source": [
    "random.seed(80085)\n",
    "results_dir = '3.1/2/2'\n",
    "\n",
    "if not os.path.isdir(results_dir):\n",
    "    os.makedirs(results_dir)\n",
    "\n",
    "# 'ECG Heartbeat Categorization Dataset - MIT-BIH', 'ECG Heartbeat Categorization Dataset - PTB Diagnostic'\n",
    "time_sample = list(range(187))\n",
    "\n",
    "for label in labels_mitbih:\n",
    "    indexes = random.sample([i for i in range(y_train_mitbih.shape[0]) if y_train_mitbih[i] == label], 6)\n",
    "\n",
    "    fig = plt.figure(figsize=plt.figaspect(0.33), facecolor=bg_color)\n",
    "    fig.suptitle('ECG Heartbeat Categorization Dataset - MIT-BIH ' + str(label) , fontsize=20)\n",
    "    for i in range(6):\n",
    "        series = X_train_mitbih.to_numpy()[indexes[i]]\n",
    "\n",
    "        ax = fig.add_subplot(2, 3, i + 1, facecolor=bg_color)\n",
    "        ax.plot(time_sample, series, label='curve in (x, y)', color=colors[0], zorder=-1)\n",
    "    plt.tight_layout()\n",
    "    plt.savefig(results_dir + 'ECG_Heartbeat_Categorization_Dataset_MIT-BIH_' + str(label) + '.png')\n",
    "    plt.show()\n",
    "\n",
    "for label in labels_ptbdb:\n",
    "    indexes = random.sample([i for i in range(y_train_ptbdb.shape[0]) if y_train_ptbdb.to_numpy()[i] == label], 6)\n",
    "\n",
    "    fig = plt.figure(figsize=plt.figaspect(0.33), facecolor=bg_color)\n",
    "    fig.suptitle('ECG Heartbeat Categorization Dataset - PTB Diagnostic' + str(label) , fontsize=20)\n",
    "    for i in range(6):\n",
    "        series = X_train_ptbdb.to_numpy()[indexes[i]]\n",
    "\n",
    "        ax = fig.add_subplot(2, 3, i + 1, facecolor=bg_color)\n",
    "        ax.plot(time_sample, series, label='curve in (x, y)', color=colors[0], zorder=-1)\n",
    "    plt.tight_layout()\n",
    "    plt.savefig(results_dir + 'ECG Heartbeat Categorization Dataset - PTB Diagnostic' + str(label) + '.png')\n",
    "    plt.show()\n"
   ]
  },
  {
   "attachments": {},
   "cell_type": "markdown",
   "metadata": {},
   "source": [
    "3) Pentru seturile de date cu aritmii afișați un grafic al mediei și deviației standard\n",
    "per unitate de timp, pentru fiecare clasă de aritmie. Media și deviația standard se\n",
    "calculează peste toate exemplele (atât din train, cât și din train set)."
   ]
  },
  {
   "cell_type": "code",
   "execution_count": null,
   "metadata": {},
   "outputs": [],
   "source": []
  },
  {
   "attachments": {},
   "cell_type": "markdown",
   "metadata": {},
   "source": [
    "4) Pentru setul de date RacketSports afișați distribuția valorilor per fiecare axă de\n",
    "accelerometru și giroscop în parte / per acțiune (a se vedea un exemplu fictiv de\n",
    "output în Figura 1). O astfel de analiză este utilă pentru a determina dacă există niște\n",
    "șabloane imediate care se pot observa în termen de valori specifice pe x, y și z\n",
    "pentru fiecare gest în parte. Aceste șabloane (e.g. intervale de valori specifice) pot fi\n",
    "folosite în etapa de definire a atributelor și pot totodată informa dacă problema este\n",
    "una ușoară (șabloane de valori clar diferențiabile per gest) sau grea (distribuții\n",
    "similare per fiecare gest).\n"
   ]
  },
  {
   "cell_type": "code",
   "execution_count": null,
   "metadata": {},
   "outputs": [],
   "source": []
  },
  {
   "cell_type": "code",
   "execution_count": null,
   "metadata": {},
   "outputs": [],
   "source": [
    "shutil.rmtree('ECG', ignore_errors=True)\n",
    "shutil.rmtree('RacketSports', ignore_errors=True)"
   ]
  }
 ],
 "metadata": {
  "kernelspec": {
   "display_name": "Python 3",
   "language": "python",
   "name": "python3"
  },
  "language_info": {
   "codemirror_mode": {
    "name": "ipython",
    "version": 3
   },
   "file_extension": ".py",
   "mimetype": "text/x-python",
   "name": "python",
   "nbconvert_exporter": "python",
   "pygments_lexer": "ipython3",
   "version": "3.10.9"
  },
  "orig_nbformat": 4
 },
 "nbformat": 4,
 "nbformat_minor": 2
}
